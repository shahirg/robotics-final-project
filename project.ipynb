{
 "cells": [
  {
   "cell_type": "code",
   "execution_count": 1,
   "metadata": {},
   "outputs": [],
   "source": [
    "# imports\n",
    "from __future__ import print_function\n",
    "import os, sys, time, datetime, json, random\n",
    "import numpy as np\n",
    "from keras.models import Sequential\n",
    "from keras.layers.core import Dense, Activation\n",
    "from tensorflow.keras.optimizers import SGD , Adam, RMSprop\n",
    "from keras.layers.advanced_activations import PReLU\n",
    "import matplotlib.pyplot as plt\n",
    "%matplotlib inline"
   ]
  },
  {
   "cell_type": "code",
   "execution_count": 2,
   "metadata": {},
   "outputs": [],
   "source": [
    "visited_color = .8\n",
    "current_color = .5\n",
    "LEFT = 0\n",
    "UP = 1\n",
    "RIGHT = 2\n",
    "DOWN = 3\n",
    "\n",
    "actions = {\n",
    "    LEFT: 'left',\n",
    "    UP: 'up',\n",
    "    RIGHT: 'right',\n",
    "    DOWN: 'down'\n",
    "}\n",
    "\n",
    "num_actions = len(actions)\n",
    "\n",
    "epsilon = .15"
   ]
  },
  {
   "cell_type": "code",
   "execution_count": 3,
   "metadata": {},
   "outputs": [],
   "source": [
    "class Maze(object):\n",
    "    def __init__(self, maze, curr=(0,0)) -> None:\n",
    "        self._maze = np.array(maze)\n",
    "        num_rows, num_cols = self._maze.shape\n",
    "        self.target = (num_rows - 1, num_cols - 1) # end goal\n",
    "\n",
    "        free_cells = []\n",
    "        for r in range(num_rows):\n",
    "            for c in range(num_cols):\n",
    "                if self._maze[r,c] == 1:\n",
    "                    free_cells.append((r,c))\n",
    "        free_cells.remove(self.target)\n",
    "        self.reset(curr)\n",
    "    \n",
    "    def reset(self, curr):\n",
    "        self.curr = curr\n",
    "        # use a copy of original maze\n",
    "        self.maze = np.copy(self._maze)\n",
    "        num_rows, num_cols = self._maze.shape\n",
    "        row, col = curr\n",
    "        self.maze[row, col] = current_color\n",
    "        self.state = (row, col, 'start')\n",
    "        self.min_reward = -.5 * self.maze.size\n",
    "        self.total_reward = 0\n",
    "        self.visited = set()\n",
    "\n",
    "    def update_state(self, action):\n",
    "        num_rows, num_cols = self._maze.shape\n",
    "        nrow, ncol, nmode = curr_row, curr_col, mode = self.state\n",
    "        \n",
    "        if self.maze[curr_row, curr_col] > 0:\n",
    "            self.visited.add((curr_row,curr_col))\n",
    "        \n",
    "        valid_actions = self.valid_actions()\n",
    "\n",
    "        if not valid_actions:\n",
    "            nmode = 'blocked'\n",
    "        elif action in valid_actions:\n",
    "            nmode = 'valid'\n",
    "            if action == LEFT:\n",
    "                ncol -= 1\n",
    "            elif action == UP:\n",
    "                nrow -= 1\n",
    "            if action == RIGHT:\n",
    "                ncol += 1\n",
    "            elif action == DOWN:\n",
    "                nrow += 1\n",
    "        else:                  # invalid action, no change in rat position\n",
    "            mode = 'invalid'\n",
    "\n",
    "        # set new state\n",
    "        self.state = (nrow, ncol, nmode)\n",
    "\n",
    "    def get_reward(self):\n",
    "        curr_row, curr_col, mode = self.state\n",
    "        nrows, ncols = self.maze.shape\n",
    "        if curr_row == nrows - 1 and curr_col == ncols - 1:\n",
    "            return 1\n",
    "        if mode == 'blocked':\n",
    "            return self.min_reward - 1\n",
    "        if (curr_row, curr_col) in self.visited:\n",
    "            return -.25\n",
    "        if mode == 'invalid':\n",
    "            return -.75\n",
    "        if mode == 'valid':\n",
    "            return -.04\n",
    "\n",
    "    def act(self, action):\n",
    "        self.update_state(action)\n",
    "        reward = self.get_reward()\n",
    "        self.total_reward += reward\n",
    "        status = self.game_status()\n",
    "        envstate = self.observe()\n",
    "        return envstate, reward, status\n",
    "\n",
    "    def observe(self):\n",
    "        canvas = self.draw_env()\n",
    "        envstate = canvas.reshape((1, -1))\n",
    "        return envstate\n",
    "\n",
    "    def draw_env(self):\n",
    "        canvas = np.copy(self.maze)\n",
    "        nrows, ncols = self.maze.shape\n",
    "        # clear all visual marks\n",
    "        for r in range(nrows):\n",
    "            for c in range(ncols):\n",
    "                if canvas[r,c] > 0.0:\n",
    "                    canvas[r,c] = 1.0\n",
    "        # draw the person\n",
    "        row, col, valid = self.state\n",
    "        canvas[row, col] = current_color\n",
    "        return canvas\n",
    "\n",
    "    def game_status(self):\n",
    "        if self.total_reward < self.min_reward:\n",
    "            return 'lose'\n",
    "        rat_row, rat_col, mode = self.state\n",
    "        nrows, ncols = self.maze.shape\n",
    "        if rat_row == nrows-1 and rat_col == ncols-1:\n",
    "            return 'win'\n",
    "\n",
    "        return 'not_over'\n",
    "    \n",
    "    def valid_actions(self, cell=None):\n",
    "        if cell is None:\n",
    "            row, col, mode = self.state\n",
    "        else:\n",
    "            row, col = cell\n",
    "        actions = [0, 1, 2, 3]\n",
    "        nrows, ncols = self.maze.shape\n",
    "\n",
    "        # check if cant move up\n",
    "        if row == 0 or (row > 0 and self.maze[row - 1, col] == 0):\n",
    "            actions.remove(1)\n",
    "\n",
    "        # check if cant move down\n",
    "        if row == nrows - 1 or (row < nrows - 1 and self.maze[row + 1, col] == 0):\n",
    "            actions.remove(3)\n",
    "\n",
    "        # check if cant move left\n",
    "        if col == 0 or (col > 0 and self.maze[row, col - 1] == 0):\n",
    "            actions.remove(0)\n",
    "\n",
    "        # check if cant move right\n",
    "        if col == ncols - 1 or (col<ncols - 1 and self.maze[row, col + 1] == 0):\n",
    "            actions.remove(2)\n",
    "\n",
    "        return actions\n",
    "        \n",
    "    "
   ]
  },
  {
   "cell_type": "code",
   "execution_count": 4,
   "metadata": {},
   "outputs": [],
   "source": [
    "def show(maze):\n",
    "    plt.grid('on')\n",
    "    nrows, ncols = maze.maze.shape\n",
    "    ax = plt.gca()\n",
    "    ax.set_xticks(np.arange(0.5, nrows, 1))\n",
    "    ax.set_yticks(np.arange(0.5, ncols, 1))\n",
    "    ax.set_xticklabels([])\n",
    "    ax.set_yticklabels([])\n",
    "    canvas = np.copy(maze.maze)\n",
    "    for row,col in maze.visited:\n",
    "        canvas[row,col] = 0.6\n",
    "    curr_row, curr_col, _ = maze.state\n",
    "    canvas[curr_row, curr_col] = 0.3   # current cell\n",
    "    canvas[nrows-1, ncols-1] = 0.9 # target cell\n",
    "    img = plt.imshow(canvas, interpolation='none', cmap='gray')\n",
    "    return img"
   ]
  },
  {
   "cell_type": "code",
   "execution_count": 5,
   "metadata": {},
   "outputs": [
    {
     "name": "stdout",
     "output_type": "stream",
     "text": [
      "reward= -0.04\n"
     ]
    },
    {
     "data": {
      "text/plain": [
       "<matplotlib.image.AxesImage at 0x1c210d2e3d0>"
      ]
     },
     "execution_count": 5,
     "metadata": {},
     "output_type": "execute_result"
    },
    {
     "data": {
      "image/png": "[encoded data removed]",
      "text/plain": [
       "<Figure size 432x288 with 1 Axes>"
      ]
     },
     "metadata": {
      "needs_background": "light"
     },
     "output_type": "display_data"
    }
   ],
   "source": [
    "maze = [\n",
    "    [ 1.,  0.,  1.,  1.,  1.,  1.,  1.,  1.],\n",
    "    [ 1.,  0.,  1.,  1.,  1.,  0.,  1.,  1.],\n",
    "    [ 1.,  1.,  1.,  1.,  0.,  1.,  0.,  1.],\n",
    "    [ 1.,  1.,  1.,  0.,  1.,  1.,  1.,  1.],\n",
    "    [ 1.,  1.,  0.,  1.,  1.,  1.,  1.,  1.],\n",
    "    [ 1.,  1.,  1.,  0.,  1.,  0.,  0.,  0.],\n",
    "    [ 1.,  1.,  1.,  0.,  1.,  1.,  1.,  1.],\n",
    "    [ 1.,  1.,  1.,  1.,  0.,  1.,  1.,  1.]\n",
    "]\n",
    "\n",
    "maze = Maze(maze)\n",
    "canvas, reward, game_over = maze.act(DOWN)\n",
    "print(\"reward=\", reward)\n",
    "show(maze)"
   ]
  },
  {
   "cell_type": "code",
   "execution_count": 7,
   "metadata": {},
   "outputs": [
    {
     "data": {
      "text/plain": [
       "<matplotlib.image.AxesImage at 0x1c2110061f0>"
      ]
     },
     "execution_count": 7,
     "metadata": {},
     "output_type": "execute_result"
    },
    {
     "data": {
      "image/png": "[encoded data removed]",
      "text/plain": [
       "<Figure size 432x288 with 1 Axes>"
      ]
     },
     "metadata": {
      "needs_background": "light"
     },
     "output_type": "display_data"
    }
   ],
   "source": [
    "maze.act(DOWN)  # move down\n",
    "maze.act(RIGHT)  # move right\n",
    "maze.act(RIGHT)  # move right\n",
    "maze.act(RIGHT)  # move right\n",
    "maze.act(UP)  # move up\n",
    "show(maze)"
   ]
  },
  {
   "cell_type": "code",
   "execution_count": null,
   "metadata": {},
   "outputs": [],
   "source": [
    "def play_game(model, maze, curr_cell):\n",
    "    maze.reset(curr_cell)\n",
    "    envstate = maze.observe()\n",
    "    while True:\n",
    "        prev_envstate = envstate\n",
    "        # get next action\n",
    "        q = model.predict(prev_envstate)\n",
    "        action = np.argmax(q[0])\n",
    "\n",
    "        # apply action, get rewards and new state\n",
    "        envstate, reward, game_status = maze.act(action)\n",
    "        if game_status == 'win':\n",
    "            return True\n",
    "        elif game_status == 'lose':\n",
    "            return False"
   ]
  },
  {
   "cell_type": "code",
   "execution_count": null,
   "metadata": {},
   "outputs": [],
   "source": [
    "def completion_check(model, qmaze):\n",
    "    for cell in qmaze.free_cells:\n",
    "        if not qmaze.valid_actions(cell):\n",
    "            return False\n",
    "        if not play_game(model, qmaze, cell):\n",
    "            return False\n",
    "    return True"
   ]
  }
 ],
 "metadata": {
  "interpreter": {
   "hash": "2751403e1c15b64e5bc1cfae11adf738bf1b3a7123710357ad6ac675119905ee"
  },
  "kernelspec": {
   "display_name": "Python 3.8.3 64-bit ('venv': venv)",
   "language": "python",
   "name": "python3"
  },
  "language_info": {
   "codemirror_mode": {
    "name": "ipython",
    "version": 3
   },
   "file_extension": ".py",
   "mimetype": "text/x-python",
   "name": "python",
   "nbconvert_exporter": "python",
   "pygments_lexer": "ipython3",
   "version": "3.8.3"
  },
  "orig_nbformat": 4
 },
 "nbformat": 4,
 "nbformat_minor": 2
}
